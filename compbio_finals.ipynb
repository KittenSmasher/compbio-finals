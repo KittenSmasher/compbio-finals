{
 "cells": [
  {
   "attachments": {},
   "cell_type": "markdown",
   "metadata": {},
   "source": [
    "Cindy Liaunardi - 2502013864"
   ]
  },
  {
   "attachments": {},
   "cell_type": "markdown",
   "metadata": {},
   "source": [
    "Multiple Sequence Alignment"
   ]
  },
  {
   "cell_type": "code",
   "execution_count": 11,
   "metadata": {},
   "outputs": [],
   "source": [
    "from Bio import AlignIO, SeqIO\n",
    "from Bio.Align.Applications import ClustalOmegaCommandline"
   ]
  },
  {
   "cell_type": "code",
   "execution_count": 12,
   "metadata": {},
   "outputs": [],
   "source": [
    "Homo_sapiens = SeqIO.read(\"homosapiens.fasta\", \"fasta\").seq\n",
    "Pan_paniscus = SeqIO.read(\"panpaniscus.fasta\", \"fasta\").seq\n",
    "Gorilla_gorilla = SeqIO.read(\"gorillagorilla.fasta\", \"fasta\").seq\n",
    "Hylobates_agilis = SeqIO.read(\"hylobatesagilis.fasta\", \"fasta\").seq\n",
    "Hoolock_tianxing = SeqIO.read(\"hoolocktianxing.fasta\", \"fasta\").seq"
   ]
  },
  {
   "cell_type": "code",
   "execution_count": 13,
   "metadata": {},
   "outputs": [],
   "source": [
    "with open(\"sequences.fasta\", \"w\") as f:\n",
    "    f.write(\">Homo_sapiens\\n{}\\n\".format(Homo_sapiens))\n",
    "    f.write(\">Pan_paniscus\\n{}\\n\".format(Pan_paniscus))\n",
    "    f.write(\">Gorilla_gorilla\\n{}\\n\".format(Gorilla_gorilla))\n",
    "    f.write(\">Hylobates_agilis\\n{}\\n\".format(Hylobates_agilis))\n",
    "    f.write(\">Hoolock_tianxing\\n{}\\n\".format(Hoolock_tianxing))"
   ]
  },
  {
   "cell_type": "code",
   "execution_count": 14,
   "metadata": {},
   "outputs": [],
   "source": [
    "clustalomega_cline = ClustalOmegaCommandline(infile=\"sequences.fasta\", outfile=\"aligned_sequences.fasta\", verbose=True, auto=True)\n",
    "stdout, stderr = clustalomega_cline()"
   ]
  },
  {
   "cell_type": "code",
   "execution_count": 15,
   "metadata": {},
   "outputs": [],
   "source": [
    "alignment = AlignIO.read(\"aligned_sequences.fasta\", \"fasta\")"
   ]
  },
  {
   "cell_type": "code",
   "execution_count": 16,
   "metadata": {},
   "outputs": [
    {
     "name": "stdout",
     "output_type": "stream",
     "text": [
      "Homo_sapiens\n",
      "MTMHTTMTTLTLTSLIPPILTTLVNPNKKNSYPHYVKSIVASTFIISLFPTTMFMCLDQEVIISNWHWATTQTTQLSLSFKLDYFSMMFIPVALFVTWSIMEFSLWYMNSDPNINQFFKYLLIFLITMLILVTANNLFQLFIGWEGVGIMSFLLISWWYARADANTAAIQAILYNRIGDIGFILALAWFILHSNSWDPQQMALLNANPSLTPLLGLLLAAAGKSAQLGLHPWLPSAMEGPTPVSALLHSSTMVVAGIFLLIRFHPLAENSPLIQTLTLCLGAITTLFAAVCALTQNDIKKIVAFSTSSQLGLMMVTIGINQPHLAFLHICTHAFFKAMLFMCSGSIIHNLNNEQDIRKMGGLLKTMPLTSTSLTIGSLALAGMPFLTGFYSKDHIIETANMSYTNAWALSITLIATSLTSAYSTRMILLTLTGQPRFPTLTNINENNPTLLNPIKRLAAGSLFAGFLITNNISPASPFQTTIPLYLKLTALAVTFLGLLTALDLNYLTNKLKMKSPLCTFYFSNMLGFYPSITHRTIPYLGLLTSQNLPLLLLDLTWLEKLLPKTISQHQISTSIITSTQKGMIKLYFLSFFFPLILTLLLIT\n",
      "Pan_paniscus\n",
      "MTMYTTMTTLTLTSLILPILTTLINPNKKNSYPHYVKSIIASTFIISLFPTTMFMCLDQEAIISNWHWATTQTTQLSLSFKLDYFSMTFIPVALFVTWAIMEFSLWYMNSDPNINQFFKYLLIFLITMLILVTANNLFQLFIGWEGVGIMSFLLISWWYARTDANTAAIQAILYNRIGDIGFILALAWFLLHSNSWDPQQMVLLSTNPSLTPLLGFLLAAAGKSAQLGLHPWLPSAMEGPTPVSALLHSSTMVVAGVFLLIRFHPLAENNPLIQTLTLCLGAITTLFAAICALTQNDIKKIVAFSTSSQLGLMMVTIGINQPHLAFLHICTHAFFKAMLFMCSGSIIHNLNNEQDIRKMGGLLKTMPLTSTSLIIGSLALAGMPFLTGFYSKDLIIETANMSYMNAWALSITLIATSLTSAYSTRMILLTLMGQPRFPTLTNINENNPTLLNPIKRLTIGSLFAGFFITNNILPMSTSQMTIPLYLKLTALGVTFLGLLTALDLNYLTNKLKMKSPPYTFYFSNMLGFYPNIMHRSIPYLGLLTSQNLPLLLLDLTWLEKLLPKTISQYQVSASITTSTQKGMIKLYFLSFLFPLILTLLLIM\n",
      "Gorilla_gorilla\n",
      "MTMYATMTTLALTSLIPPILTTFINPNKKSSYPHYVKSIVASTFIISLFPTTMFLCLDQEAIISSWHWATTQTIQLSLSFKLDYFSMMFIPVALFVTWSIMEFSLWYMNSDPNINQFFKYLLIFLITMLILVTANNLFQLFIGWEGVGIMSFLLIGWWYARTDANTAAVQAILYNRIGDIGFILALAWFLLHSNSWDPQQMSLLNTNPNLIPLLGFLLAAAGKSAQLGLHPWLPSAMEGPTPVSALLHSSTMVVAGVFLLIRFRHLAENNSLAQTLTLCLGAITTLFAAVCALTQNDIKKIVAFSTSSQLGLMVATIGIGQPHLAFLHICTHAFFKAMLFMCSGSIIHNLNNEQDIRKMGGLLKAMPLTSTSLAIGSLALMGMPFLTGFYSKDLIIETANMSHTNAWALSIILIATSLTSAYSTRMILLTLTGQPRFPTFANINENYSTLLNPIKRLTIGSLFAGFFITNNILPTSVPQMTIPLYLKLTALSITLLGLLTALDLNYLTNKLKMKHPPHTFYFSNMLGFYPNITHRTIPYLGLLMSQNLPLLLLDLIWLEKLLPKTISQHQISASITTSTQKGLIKLYFLSFFFPLLLILLLIT\n",
      "Hylobates_agilis\n",
      "MTMYATMTILTLASLIPPITAALVSPNKKNSYPHYVKMTIASTFMISLFPTMMFMCTNQETIISNWHWTAAQTLELSLSFKLDYFSMMFIPVALFVTWSIMEFSLWYMHSDPNINQFFKYLLIFLTTMLILVTANNLLQLFIGWEGVGIMSFLLIGWWHAREEANTAAMQAILYNRIGDIGFILALTWFLLHANSWEPQQMILLNTSPNSLPLAGLLLAAAGKSAQLGLHPWLPSAMEGPTPVSALLHSSTMVVAGVFLLIRFHPLAENNQLIQTLTLCLGAVTTLFTAICALTQNDIKKIVAFSTSSQLGLMMVTIGINQPYLAFLHICTHAFFKAMLFMCSGSIIHNLNNEQDIRKMGGLFKTLPLTSTSLTIGSLALTGMPFLTGFYSKDLIIETANMSYTNAWALSMTLIATSLTSAYSTRMILLTLTNQPRFPTLTNINENNPTLLNPIKRLTIGSLLAGFLIINSIPPTSPSQTTIPLYLKLTALSITLLGFLAALDLYLLTNKLKMKTPSYTFHFSNMLGFYPNTIHRTIPYASLIMSQNLASLLLDLTWLEKLMPKTISHHQISASITISSQKGMIKLYSLSLLIPLSLALLLVM\n",
      "Hoolock_tianxing\n",
      "--MYTTMTILTLTSLIPPITATLVNPNEKTSYPHYVKTIIATTFMISLLPTTAFMCTDQEAIISNWHWTATQTLELSLSFKLDYFSMMFIPIALFVTWSIMEFSLWYMHSDPNINQFFKYLLIFLITMLILVTANNLFQLFIGWEGVGIMSFLLIGWWHAREEANTAAIQAILYNRIGDIGFILALAWFLLHTNSWEPQQMLPLNTNSNFLPLAGLLLAAAGKSAQLGLHPWLPSAMEGPTPVSALLHSSTMVVAGVFLLIRFHPLTENNQPIQTLTLCLGAITTLFTATCALTQNDIKKIVAFSTSSQLGLMIVTIGINQPYLAFLHICTHAFFKAMLFMCSGSIIHNLNNEQDIRKMGGLLKTLPFTSTSLTIGSLALTGMPFLTGFYSKDLIIETANMSYTNAWALSMTLIATSLTSAYSTRMILLTLTNQPRFPALTNINENNPTLLNPIKRLAIGSLLAGFLIINSIPPTSPAQTTIPLYLKLTALSITLLGFLAAFDLYLLTNKLKTKNPSHMFRFSNMLGFYPNTVHRTIPHASLLMSQNLASLLLDLAWLEKSMPKAISHHQISASITISSQKGMIKLYSLSLLIPLFLALLLIM\n"
     ]
    }
   ],
   "source": [
    "for record in alignment:\n",
    "    print(record.id)\n",
    "    print(record.seq)"
   ]
  },
  {
   "attachments": {},
   "cell_type": "markdown",
   "metadata": {},
   "source": [
    "Phlogenetic Tree"
   ]
  },
  {
   "cell_type": "code",
   "execution_count": 17,
   "metadata": {},
   "outputs": [],
   "source": [
    "from Bio import Phylo, SeqIO\n",
    "from Bio.Align import MultipleSeqAlignment\n",
    "from Bio.Phylo.TreeConstruction import DistanceCalculator, DistanceTreeConstructor"
   ]
  },
  {
   "cell_type": "code",
   "execution_count": 18,
   "metadata": {},
   "outputs": [],
   "source": [
    "calculator = DistanceCalculator(\"identity\")\n",
    "distance_matrix = calculator.get_distance(alignment)"
   ]
  },
  {
   "cell_type": "code",
   "execution_count": 19,
   "metadata": {},
   "outputs": [],
   "source": [
    "constructor = DistanceTreeConstructor(calculator, \"upgma\")\n",
    "tree = constructor.build_tree(alignment)"
   ]
  },
  {
   "cell_type": "code",
   "execution_count": 20,
   "metadata": {},
   "outputs": [
    {
     "name": "stdout",
     "output_type": "stream",
     "text": [
      "                              _______________________________ Hoolock_tianxing\n",
      "  ___________________________|\n",
      " |                           |_______________________________ Hylobates_agilis\n",
      "_|\n",
      " |                         __________________________________ Gorilla_gorilla\n",
      " |________________________|\n",
      "                          |           _______________________ Pan_paniscus\n",
      "                          |__________|\n",
      "                                     |_______________________ Homo_sapiens\n",
      "\n"
     ]
    }
   ],
   "source": [
    "Phylo.draw_ascii(tree)"
   ]
  }
 ],
 "metadata": {
  "kernelspec": {
   "display_name": "Python 3",
   "language": "python",
   "name": "python3"
  },
  "language_info": {
   "codemirror_mode": {
    "name": "ipython",
    "version": 3
   },
   "file_extension": ".py",
   "mimetype": "text/x-python",
   "name": "python",
   "nbconvert_exporter": "python",
   "pygments_lexer": "ipython3",
   "version": "3.11.4"
  },
  "orig_nbformat": 4
 },
 "nbformat": 4,
 "nbformat_minor": 2
}
